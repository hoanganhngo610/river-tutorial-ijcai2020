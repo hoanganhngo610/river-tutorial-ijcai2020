{
 "cells": [
  {
   "cell_type": "markdown",
   "metadata": {},
   "source": [
    "# Benchmarking for Clustering Algorithms"
   ]
  },
  {
   "cell_type": "code",
   "execution_count": 1,
   "metadata": {},
   "outputs": [
    {
     "name": "stderr",
     "output_type": "stream",
     "text": [
      "/Applications/anaconda3/lib/python3.7/site-packages/pandas/compat/_optional.py:138: UserWarning: Pandas requires version '2.7.0' or newer of 'numexpr' (version '2.6.9' currently installed).\n",
      "  warnings.warn(msg, UserWarning)\n"
     ]
    }
   ],
   "source": [
    "from river.cluster import KMeans, STREAMKMeans\n",
    "from river.stream import iter_pandas\n",
    "\n",
    "from river import metrics"
   ]
  },
  {
   "cell_type": "code",
   "execution_count": 2,
   "metadata": {},
   "outputs": [],
   "source": [
    "import numpy as np\n",
    "import pandas as pd\n",
    "from collections import deque\n",
    "import matplotlib.pyplot as plt\n",
    "import warnings\n",
    "import time\n",
    "import copy"
   ]
  },
  {
   "cell_type": "code",
   "execution_count": 3,
   "metadata": {},
   "outputs": [
    {
     "name": "stderr",
     "output_type": "stream",
     "text": [
      "/Applications/anaconda3/lib/python3.7/site-packages/dask/config.py:168: YAMLLoadWarning: calling yaml.load() without Loader=... is deprecated, as the default Loader is unsafe. Please read https://msg.pyyaml.org/load for full details.\n",
      "  data = yaml.load(f.read()) or {}\n",
      "/Applications/anaconda3/lib/python3.7/site-packages/distributed/config.py:20: YAMLLoadWarning: calling yaml.load() without Loader=... is deprecated, as the default Loader is unsafe. Please read https://msg.pyyaml.org/load for full details.\n",
      "  defaults = yaml.load(f)\n"
     ]
    }
   ],
   "source": [
    "import streamz\n",
    "import streamz.dataframe"
   ]
  },
  {
   "cell_type": "code",
   "execution_count": 4,
   "metadata": {},
   "outputs": [],
   "source": [
    "#model name\n",
    "model1_name = 'kmeans'\n",
    "model2_name = 'streamkmeans'\n",
    "\n",
    "#dataset_name\n",
    "dataset_name = 'arg_a_20k'\n",
    "\n",
    "#load data\n",
    "n_samples = 10_000\n",
    "save = False\n",
    "\n",
    "data = pd.read_csv(\"agr_a_20k.csv\", nrows = n_samples)\n",
    "features = data.columns[:-2]\n",
    "stream = iter_pandas(X=data[features], y=data['class'])\n",
    "\n"
   ]
  },
  {
   "cell_type": "code",
   "execution_count": 5,
   "metadata": {},
   "outputs": [
    {
     "data": {
      "text/html": [
       "<div>\n",
       "<style scoped>\n",
       "    .dataframe tbody tr th:only-of-type {\n",
       "        vertical-align: middle;\n",
       "    }\n",
       "\n",
       "    .dataframe tbody tr th {\n",
       "        vertical-align: top;\n",
       "    }\n",
       "\n",
       "    .dataframe thead th {\n",
       "        text-align: right;\n",
       "    }\n",
       "</style>\n",
       "<table border=\"1\" class=\"dataframe\">\n",
       "  <thead>\n",
       "    <tr style=\"text-align: right;\">\n",
       "      <th></th>\n",
       "      <th>salary</th>\n",
       "      <th>commission</th>\n",
       "      <th>age</th>\n",
       "      <th>elevel</th>\n",
       "      <th>car</th>\n",
       "      <th>zipcode</th>\n",
       "      <th>hvalue</th>\n",
       "      <th>hyears</th>\n",
       "      <th>loan</th>\n",
       "      <th>class</th>\n",
       "    </tr>\n",
       "  </thead>\n",
       "  <tbody>\n",
       "    <tr>\n",
       "      <th>0</th>\n",
       "      <td>110499.735409</td>\n",
       "      <td>0.000000</td>\n",
       "      <td>54</td>\n",
       "      <td>3</td>\n",
       "      <td>6</td>\n",
       "      <td>4</td>\n",
       "      <td>135000.0</td>\n",
       "      <td>30</td>\n",
       "      <td>354724.182530</td>\n",
       "      <td>1</td>\n",
       "    </tr>\n",
       "    <tr>\n",
       "      <th>1</th>\n",
       "      <td>140893.779095</td>\n",
       "      <td>0.000000</td>\n",
       "      <td>44</td>\n",
       "      <td>4</td>\n",
       "      <td>12</td>\n",
       "      <td>7</td>\n",
       "      <td>135000.0</td>\n",
       "      <td>2</td>\n",
       "      <td>395015.339020</td>\n",
       "      <td>1</td>\n",
       "    </tr>\n",
       "    <tr>\n",
       "      <th>2</th>\n",
       "      <td>119159.651677</td>\n",
       "      <td>0.000000</td>\n",
       "      <td>49</td>\n",
       "      <td>2</td>\n",
       "      <td>0</td>\n",
       "      <td>3</td>\n",
       "      <td>135000.0</td>\n",
       "      <td>22</td>\n",
       "      <td>122025.085242</td>\n",
       "      <td>1</td>\n",
       "    </tr>\n",
       "    <tr>\n",
       "      <th>3</th>\n",
       "      <td>20000.000000</td>\n",
       "      <td>52593.636537</td>\n",
       "      <td>56</td>\n",
       "      <td>0</td>\n",
       "      <td>19</td>\n",
       "      <td>1</td>\n",
       "      <td>135000.0</td>\n",
       "      <td>30</td>\n",
       "      <td>99629.621457</td>\n",
       "      <td>1</td>\n",
       "    </tr>\n",
       "    <tr>\n",
       "      <th>4</th>\n",
       "      <td>93956.320488</td>\n",
       "      <td>0.000000</td>\n",
       "      <td>59</td>\n",
       "      <td>1</td>\n",
       "      <td>6</td>\n",
       "      <td>1</td>\n",
       "      <td>135000.0</td>\n",
       "      <td>1</td>\n",
       "      <td>458679.826238</td>\n",
       "      <td>0</td>\n",
       "    </tr>\n",
       "  </tbody>\n",
       "</table>\n",
       "</div>"
      ],
      "text/plain": [
       "          salary    commission  age  elevel  car  zipcode    hvalue  hyears  \\\n",
       "0  110499.735409      0.000000   54       3    6        4  135000.0      30   \n",
       "1  140893.779095      0.000000   44       4   12        7  135000.0       2   \n",
       "2  119159.651677      0.000000   49       2    0        3  135000.0      22   \n",
       "3   20000.000000  52593.636537   56       0   19        1  135000.0      30   \n",
       "4   93956.320488      0.000000   59       1    6        1  135000.0       1   \n",
       "\n",
       "            loan  class  \n",
       "0  354724.182530      1  \n",
       "1  395015.339020      1  \n",
       "2  122025.085242      1  \n",
       "3   99629.621457      1  \n",
       "4  458679.826238      0  "
      ]
     },
     "execution_count": 5,
     "metadata": {},
     "output_type": "execute_result"
    }
   ],
   "source": [
    "data.head()"
   ]
  },
  {
   "cell_type": "code",
   "execution_count": 6,
   "metadata": {},
   "outputs": [],
   "source": [
    "kmeans = KMeans(n_clusters=3, halflife=0.4, sigma=3, seed=0)\n",
    "streamkmeans = STREAMKMeans(chunk_size=3, n_clusters=5, halflife=0.5, sigma=1.5, seed=0)"
   ]
  },
  {
   "cell_type": "code",
   "execution_count": 7,
   "metadata": {},
   "outputs": [],
   "source": [
    "#metric - Silhouette\n",
    "metric_kmeans = metrics.cluster.Silhouette()\n",
    "metric_streamkmeans = metrics.cluster.Silhouette()\n",
    "\n",
    "#time\n",
    "time_kmeans = 0\n",
    "time_streamkmeans = 0\n",
    "\n",
    "#score - tuple of (metric, memory usage, time)\n",
    "score_kmeans = deque()\n",
    "score_streamkmeans = deque()"
   ]
  },
  {
   "cell_type": "code",
   "execution_count": 8,
   "metadata": {},
   "outputs": [
    {
     "name": "stdout",
     "output_type": "stream",
     "text": [
      "0 - [KMeans] Silhouette: 0.599992 | [STREAMKMeans] Silhouette: 1.\n",
      "99 - [KMeans] Silhouette: 0.189484 | [STREAMKMeans] Silhouette: 0.322894\n",
      "199 - [KMeans] Silhouette: 0.185705 | [STREAMKMeans] Silhouette: 0.304312\n",
      "299 - [KMeans] Silhouette: 0.173949 | [STREAMKMeans] Silhouette: 0.287598\n",
      "399 - [KMeans] Silhouette: 0.186003 | [STREAMKMeans] Silhouette: 0.296121\n",
      "499 - [KMeans] Silhouette: 0.186638 | [STREAMKMeans] Silhouette: 0.292283\n",
      "599 - [KMeans] Silhouette: 0.187431 | [STREAMKMeans] Silhouette: 0.293774\n",
      "699 - [KMeans] Silhouette: 0.187418 | [STREAMKMeans] Silhouette: 0.291955\n",
      "799 - [KMeans] Silhouette: 0.186458 | [STREAMKMeans] Silhouette: 0.290564\n",
      "899 - [KMeans] Silhouette: 0.187447 | [STREAMKMeans] Silhouette: 0.290213\n",
      "999 - [KMeans] Silhouette: 0.186953 | [STREAMKMeans] Silhouette: 0.289135\n",
      "1099 - [KMeans] Silhouette: 0.187783 | [STREAMKMeans] Silhouette: 0.288484\n",
      "1199 - [KMeans] Silhouette: 0.188107 | [STREAMKMeans] Silhouette: 0.2879\n",
      "1299 - [KMeans] Silhouette: 0.189162 | [STREAMKMeans] Silhouette: 0.28835\n",
      "1399 - [KMeans] Silhouette: 0.189094 | [STREAMKMeans] Silhouette: 0.287487\n",
      "1499 - [KMeans] Silhouette: 0.189637 | [STREAMKMeans] Silhouette: 0.287887\n",
      "1599 - [KMeans] Silhouette: 0.188701 | [STREAMKMeans] Silhouette: 0.288885\n",
      "1699 - [KMeans] Silhouette: 0.188655 | [STREAMKMeans] Silhouette: 0.28903\n",
      "1799 - [KMeans] Silhouette: 0.188908 | [STREAMKMeans] Silhouette: 0.289458\n",
      "1899 - [KMeans] Silhouette: 0.188708 | [STREAMKMeans] Silhouette: 0.288994\n",
      "1999 - [KMeans] Silhouette: 0.190225 | [STREAMKMeans] Silhouette: 0.287943\n",
      "2099 - [KMeans] Silhouette: 0.192154 | [STREAMKMeans] Silhouette: 0.288613\n",
      "2199 - [KMeans] Silhouette: 0.193168 | [STREAMKMeans] Silhouette: 0.288502\n",
      "2299 - [KMeans] Silhouette: 0.194193 | [STREAMKMeans] Silhouette: 0.288147\n",
      "2399 - [KMeans] Silhouette: 0.19446 | [STREAMKMeans] Silhouette: 0.287783\n",
      "2499 - [KMeans] Silhouette: 0.195144 | [STREAMKMeans] Silhouette: 0.288054\n",
      "2599 - [KMeans] Silhouette: 0.196377 | [STREAMKMeans] Silhouette: 0.287906\n",
      "2699 - [KMeans] Silhouette: 0.197122 | [STREAMKMeans] Silhouette: 0.287411\n",
      "2799 - [KMeans] Silhouette: 0.197642 | [STREAMKMeans] Silhouette: 0.286937\n",
      "2899 - [KMeans] Silhouette: 0.198664 | [STREAMKMeans] Silhouette: 0.286494\n",
      "2999 - [KMeans] Silhouette: 0.198894 | [STREAMKMeans] Silhouette: 0.286281\n",
      "3099 - [KMeans] Silhouette: 0.200027 | [STREAMKMeans] Silhouette: 0.28626\n",
      "3199 - [KMeans] Silhouette: 0.200687 | [STREAMKMeans] Silhouette: 0.286231\n",
      "3299 - [KMeans] Silhouette: 0.200649 | [STREAMKMeans] Silhouette: 0.28623\n",
      "3399 - [KMeans] Silhouette: 0.200853 | [STREAMKMeans] Silhouette: 0.286136\n",
      "3499 - [KMeans] Silhouette: 0.201978 | [STREAMKMeans] Silhouette: 0.286187\n",
      "3599 - [KMeans] Silhouette: 0.201631 | [STREAMKMeans] Silhouette: 0.285964\n",
      "3699 - [KMeans] Silhouette: 0.202062 | [STREAMKMeans] Silhouette: 0.285717\n",
      "3799 - [KMeans] Silhouette: 0.202461 | [STREAMKMeans] Silhouette: 0.28538\n",
      "3899 - [KMeans] Silhouette: 0.2032 | [STREAMKMeans] Silhouette: 0.285667\n",
      "3999 - [KMeans] Silhouette: 0.203884 | [STREAMKMeans] Silhouette: 0.285326\n",
      "4099 - [KMeans] Silhouette: 0.204259 | [STREAMKMeans] Silhouette: 0.285641\n",
      "4199 - [KMeans] Silhouette: 0.204856 | [STREAMKMeans] Silhouette: 0.28566\n",
      "4299 - [KMeans] Silhouette: 0.205679 | [STREAMKMeans] Silhouette: 0.286192\n",
      "4399 - [KMeans] Silhouette: 0.205625 | [STREAMKMeans] Silhouette: 0.286584\n",
      "4499 - [KMeans] Silhouette: 0.205136 | [STREAMKMeans] Silhouette: 0.286552\n",
      "4599 - [KMeans] Silhouette: 0.204626 | [STREAMKMeans] Silhouette: 0.286635\n",
      "4699 - [KMeans] Silhouette: 0.205171 | [STREAMKMeans] Silhouette: 0.286343\n",
      "4799 - [KMeans] Silhouette: 0.205583 | [STREAMKMeans] Silhouette: 0.285869\n",
      "4899 - [KMeans] Silhouette: 0.205788 | [STREAMKMeans] Silhouette: 0.286057\n",
      "4999 - [KMeans] Silhouette: 0.206164 | [STREAMKMeans] Silhouette: 0.286349\n",
      "5099 - [KMeans] Silhouette: 0.206438 | [STREAMKMeans] Silhouette: 0.286498\n",
      "5199 - [KMeans] Silhouette: 0.206465 | [STREAMKMeans] Silhouette: 0.286846\n",
      "5299 - [KMeans] Silhouette: 0.206433 | [STREAMKMeans] Silhouette: 0.286407\n",
      "5399 - [KMeans] Silhouette: 0.207023 | [STREAMKMeans] Silhouette: 0.286947\n",
      "5499 - [KMeans] Silhouette: 0.206983 | [STREAMKMeans] Silhouette: 0.28683\n",
      "5599 - [KMeans] Silhouette: 0.207052 | [STREAMKMeans] Silhouette: 0.287197\n",
      "5699 - [KMeans] Silhouette: 0.206771 | [STREAMKMeans] Silhouette: 0.287012\n",
      "5799 - [KMeans] Silhouette: 0.206233 | [STREAMKMeans] Silhouette: 0.286755\n",
      "5899 - [KMeans] Silhouette: 0.206328 | [STREAMKMeans] Silhouette: 0.286859\n",
      "5999 - [KMeans] Silhouette: 0.205876 | [STREAMKMeans] Silhouette: 0.286779\n",
      "6099 - [KMeans] Silhouette: 0.206067 | [STREAMKMeans] Silhouette: 0.286592\n",
      "6199 - [KMeans] Silhouette: 0.206452 | [STREAMKMeans] Silhouette: 0.286476\n",
      "6299 - [KMeans] Silhouette: 0.207201 | [STREAMKMeans] Silhouette: 0.28652\n",
      "6399 - [KMeans] Silhouette: 0.207491 | [STREAMKMeans] Silhouette: 0.286429\n",
      "6499 - [KMeans] Silhouette: 0.20789 | [STREAMKMeans] Silhouette: 0.286561\n",
      "6599 - [KMeans] Silhouette: 0.207921 | [STREAMKMeans] Silhouette: 0.286836\n",
      "6699 - [KMeans] Silhouette: 0.208199 | [STREAMKMeans] Silhouette: 0.286879\n",
      "6799 - [KMeans] Silhouette: 0.208581 | [STREAMKMeans] Silhouette: 0.286923\n",
      "6899 - [KMeans] Silhouette: 0.208625 | [STREAMKMeans] Silhouette: 0.286775\n",
      "6999 - [KMeans] Silhouette: 0.208759 | [STREAMKMeans] Silhouette: 0.286504\n",
      "7099 - [KMeans] Silhouette: 0.209145 | [STREAMKMeans] Silhouette: 0.2867\n",
      "7199 - [KMeans] Silhouette: 0.209197 | [STREAMKMeans] Silhouette: 0.286706\n",
      "7299 - [KMeans] Silhouette: 0.209395 | [STREAMKMeans] Silhouette: 0.28656\n",
      "7399 - [KMeans] Silhouette: 0.209292 | [STREAMKMeans] Silhouette: 0.286649\n",
      "7499 - [KMeans] Silhouette: 0.209391 | [STREAMKMeans] Silhouette: 0.286786\n",
      "7599 - [KMeans] Silhouette: 0.209859 | [STREAMKMeans] Silhouette: 0.286711\n",
      "7699 - [KMeans] Silhouette: 0.209998 | [STREAMKMeans] Silhouette: 0.286491\n",
      "7799 - [KMeans] Silhouette: 0.210058 | [STREAMKMeans] Silhouette: 0.286187\n",
      "7899 - [KMeans] Silhouette: 0.210434 | [STREAMKMeans] Silhouette: 0.286101\n",
      "7999 - [KMeans] Silhouette: 0.21037 | [STREAMKMeans] Silhouette: 0.285994\n",
      "8099 - [KMeans] Silhouette: 0.210766 | [STREAMKMeans] Silhouette: 0.28605\n",
      "8199 - [KMeans] Silhouette: 0.210932 | [STREAMKMeans] Silhouette: 0.286088\n",
      "8299 - [KMeans] Silhouette: 0.210815 | [STREAMKMeans] Silhouette: 0.286133\n",
      "8399 - [KMeans] Silhouette: 0.21077 | [STREAMKMeans] Silhouette: 0.286043\n",
      "8499 - [KMeans] Silhouette: 0.21121 | [STREAMKMeans] Silhouette: 0.286195\n",
      "8599 - [KMeans] Silhouette: 0.210891 | [STREAMKMeans] Silhouette: 0.286086\n",
      "8699 - [KMeans] Silhouette: 0.211076 | [STREAMKMeans] Silhouette: 0.285943\n",
      "8799 - [KMeans] Silhouette: 0.21118 | [STREAMKMeans] Silhouette: 0.285975\n",
      "8899 - [KMeans] Silhouette: 0.211419 | [STREAMKMeans] Silhouette: 0.286039\n",
      "8999 - [KMeans] Silhouette: 0.211735 | [STREAMKMeans] Silhouette: 0.285775\n",
      "9099 - [KMeans] Silhouette: 0.21183 | [STREAMKMeans] Silhouette: 0.285911\n",
      "9199 - [KMeans] Silhouette: 0.21209 | [STREAMKMeans] Silhouette: 0.285942\n",
      "9299 - [KMeans] Silhouette: 0.212389 | [STREAMKMeans] Silhouette: 0.286222\n",
      "9399 - [KMeans] Silhouette: 0.21232 | [STREAMKMeans] Silhouette: 0.286275\n",
      "9499 - [KMeans] Silhouette: 0.211945 | [STREAMKMeans] Silhouette: 0.286292\n",
      "9599 - [KMeans] Silhouette: 0.21166 | [STREAMKMeans] Silhouette: 0.286301\n",
      "9699 - [KMeans] Silhouette: 0.211832 | [STREAMKMeans] Silhouette: 0.286078\n",
      "9799 - [KMeans] Silhouette: 0.212036 | [STREAMKMeans] Silhouette: 0.285967\n",
      "9899 - [KMeans] Silhouette: 0.212057 | [STREAMKMeans] Silhouette: 0.286059\n",
      "9999 - [KMeans] Silhouette: 0.212184 | [STREAMKMeans] Silhouette: 0.286221\n"
     ]
    }
   ],
   "source": [
    "for i, (x, _) in enumerate(stream):\n",
    "    # KMeans\n",
    "    start = time.perf_counter()\n",
    "    kmeans.learn_one(x)\n",
    "    y_pred_kmeans = kmeans.predict_one(x)\n",
    "    time_kmeans += (time.perf_counter() - start)\n",
    "    metric_kmeans.update(x = x, y_pred = y_pred_kmeans, centers = kmeans.centers)\n",
    "    \n",
    "    # STREAMKMeans\n",
    "    start = time.perf_counter()\n",
    "    streamkmeans.learn_one(x)\n",
    "    y_pred_streamkmeans = streamkmeans.predict_one(x)\n",
    "    time_streamkmeans += (time.perf_counter() - start)\n",
    "    metric_streamkmeans.update(x = x, y_pred = y_pred_streamkmeans, centers = streamkmeans.centers)\n",
    "\n",
    "    \n",
    "    if i == 0 or (i + 1) % int(.01*n_samples) == 0:\n",
    "        print(f'{i} - [KMeans] {metric_kmeans} | [STREAMKMeans] {metric_streamkmeans}')\n",
    "        score_kmeans.append((metric_kmeans.get(), kmeans._raw_memory_usage, time_kmeans))\n",
    "        score_streamkmeans.append((metric_streamkmeans.get(), streamkmeans._raw_memory_usage, time_streamkmeans))"
   ]
  },
  {
   "cell_type": "code",
   "execution_count": 9,
   "metadata": {},
   "outputs": [
    {
     "data": {
      "text/html": [
       "<div>\n",
       "<style scoped>\n",
       "    .dataframe tbody tr th:only-of-type {\n",
       "        vertical-align: middle;\n",
       "    }\n",
       "\n",
       "    .dataframe tbody tr th {\n",
       "        vertical-align: top;\n",
       "    }\n",
       "\n",
       "    .dataframe thead th {\n",
       "        text-align: right;\n",
       "    }\n",
       "</style>\n",
       "<table border=\"1\" class=\"dataframe\">\n",
       "  <thead>\n",
       "    <tr style=\"text-align: right;\">\n",
       "      <th></th>\n",
       "      <th>kmeans_silhouette</th>\n",
       "      <th>kmeans_memory</th>\n",
       "      <th>kmeans_time</th>\n",
       "      <th>streamkmeans_silhouette</th>\n",
       "      <th>streamkmeans_memory</th>\n",
       "      <th>streamkmeans_time</th>\n",
       "    </tr>\n",
       "  </thead>\n",
       "  <tbody>\n",
       "    <tr>\n",
       "      <th>0</th>\n",
       "      <td>0.599992</td>\n",
       "      <td>5335</td>\n",
       "      <td>0.000203</td>\n",
       "      <td>1.000000</td>\n",
       "      <td>7128</td>\n",
       "      <td>0.000057</td>\n",
       "    </tr>\n",
       "    <tr>\n",
       "      <th>100</th>\n",
       "      <td>0.189484</td>\n",
       "      <td>5335</td>\n",
       "      <td>0.010200</td>\n",
       "      <td>0.322894</td>\n",
       "      <td>7540</td>\n",
       "      <td>0.021486</td>\n",
       "    </tr>\n",
       "    <tr>\n",
       "      <th>200</th>\n",
       "      <td>0.185705</td>\n",
       "      <td>5335</td>\n",
       "      <td>0.018843</td>\n",
       "      <td>0.304312</td>\n",
       "      <td>8164</td>\n",
       "      <td>0.041919</td>\n",
       "    </tr>\n",
       "    <tr>\n",
       "      <th>300</th>\n",
       "      <td>0.173949</td>\n",
       "      <td>5335</td>\n",
       "      <td>0.027535</td>\n",
       "      <td>0.287598</td>\n",
       "      <td>8788</td>\n",
       "      <td>0.062260</td>\n",
       "    </tr>\n",
       "    <tr>\n",
       "      <th>400</th>\n",
       "      <td>0.186003</td>\n",
       "      <td>5719</td>\n",
       "      <td>0.035942</td>\n",
       "      <td>0.296121</td>\n",
       "      <td>7540</td>\n",
       "      <td>0.081461</td>\n",
       "    </tr>\n",
       "    <tr>\n",
       "      <th>...</th>\n",
       "      <td>...</td>\n",
       "      <td>...</td>\n",
       "      <td>...</td>\n",
       "      <td>...</td>\n",
       "      <td>...</td>\n",
       "      <td>...</td>\n",
       "    </tr>\n",
       "    <tr>\n",
       "      <th>9600</th>\n",
       "      <td>0.211660</td>\n",
       "      <td>6103</td>\n",
       "      <td>1.005253</td>\n",
       "      <td>0.286301</td>\n",
       "      <td>9172</td>\n",
       "      <td>2.566411</td>\n",
       "    </tr>\n",
       "    <tr>\n",
       "      <th>9700</th>\n",
       "      <td>0.211832</td>\n",
       "      <td>6103</td>\n",
       "      <td>1.013645</td>\n",
       "      <td>0.286078</td>\n",
       "      <td>7924</td>\n",
       "      <td>2.588112</td>\n",
       "    </tr>\n",
       "    <tr>\n",
       "      <th>9800</th>\n",
       "      <td>0.212036</td>\n",
       "      <td>6103</td>\n",
       "      <td>1.020937</td>\n",
       "      <td>0.285967</td>\n",
       "      <td>8548</td>\n",
       "      <td>2.608684</td>\n",
       "    </tr>\n",
       "    <tr>\n",
       "      <th>9900</th>\n",
       "      <td>0.212057</td>\n",
       "      <td>6103</td>\n",
       "      <td>1.029561</td>\n",
       "      <td>0.286059</td>\n",
       "      <td>9172</td>\n",
       "      <td>2.628757</td>\n",
       "    </tr>\n",
       "    <tr>\n",
       "      <th>10000</th>\n",
       "      <td>0.212184</td>\n",
       "      <td>6103</td>\n",
       "      <td>1.037487</td>\n",
       "      <td>0.286221</td>\n",
       "      <td>7924</td>\n",
       "      <td>2.648597</td>\n",
       "    </tr>\n",
       "  </tbody>\n",
       "</table>\n",
       "<p>101 rows × 6 columns</p>\n",
       "</div>"
      ],
      "text/plain": [
       "       kmeans_silhouette  kmeans_memory  kmeans_time  streamkmeans_silhouette  \\\n",
       "0               0.599992           5335     0.000203                 1.000000   \n",
       "100             0.189484           5335     0.010200                 0.322894   \n",
       "200             0.185705           5335     0.018843                 0.304312   \n",
       "300             0.173949           5335     0.027535                 0.287598   \n",
       "400             0.186003           5719     0.035942                 0.296121   \n",
       "...                  ...            ...          ...                      ...   \n",
       "9600            0.211660           6103     1.005253                 0.286301   \n",
       "9700            0.211832           6103     1.013645                 0.286078   \n",
       "9800            0.212036           6103     1.020937                 0.285967   \n",
       "9900            0.212057           6103     1.029561                 0.286059   \n",
       "10000           0.212184           6103     1.037487                 0.286221   \n",
       "\n",
       "       streamkmeans_memory  streamkmeans_time  \n",
       "0                     7128           0.000057  \n",
       "100                   7540           0.021486  \n",
       "200                   8164           0.041919  \n",
       "300                   8788           0.062260  \n",
       "400                   7540           0.081461  \n",
       "...                    ...                ...  \n",
       "9600                  9172           2.566411  \n",
       "9700                  7924           2.588112  \n",
       "9800                  8548           2.608684  \n",
       "9900                  9172           2.628757  \n",
       "10000                 7924           2.648597  \n",
       "\n",
       "[101 rows x 6 columns]"
      ]
     },
     "execution_count": 9,
     "metadata": {},
     "output_type": "execute_result"
    }
   ],
   "source": [
    "df = pd.DataFrame(\n",
    "    data={\n",
    "        'kmeans_silhouette': [t[0] for t in score_kmeans],\n",
    "        'kmeans_memory': [t[1] for t in score_kmeans],\n",
    "        'kmeans_time': [t[2] for t in score_kmeans],\n",
    "        'streamkmeans_silhouette': [t[0] for t in score_streamkmeans],\n",
    "        'streamkmeans_memory': [t[1] for t in score_streamkmeans],\n",
    "        'streamkmeans_time': [t[2] for t in score_streamkmeans],\n",
    "\n",
    "    }\n",
    ")\n",
    "\n",
    "idx = np.arange(0, n_samples + 1, int(0.01 * n_samples))\n",
    "df.set_index(idx, inplace=True)\n",
    "if save:\n",
    "    df.to_csv(f'{model1_name}_vs_{model2_name}-{dataset_name}_{n_samples}.csv')\n",
    "df"
   ]
  },
  {
   "cell_type": "code",
   "execution_count": 10,
   "metadata": {},
   "outputs": [
    {
     "name": "stderr",
     "output_type": "stream",
     "text": [
      "/Applications/anaconda3/lib/python3.7/site-packages/matplotlib/cbook/__init__.py:1377: FutureWarning: Support for multi-dimensional indexing (e.g. `obj[:, None]`) is deprecated and will be removed in a future version.  Convert to a numpy array before indexing instead.\n",
      "  x[:, None]\n",
      "/Applications/anaconda3/lib/python3.7/site-packages/matplotlib/axes/_base.py:237: FutureWarning: Support for multi-dimensional indexing (e.g. `obj[:, None]`) is deprecated and will be removed in a future version.  Convert to a numpy array before indexing instead.\n",
      "  x = x[:, np.newaxis]\n",
      "/Applications/anaconda3/lib/python3.7/site-packages/matplotlib/axes/_base.py:239: FutureWarning: Support for multi-dimensional indexing (e.g. `obj[:, None]`) is deprecated and will be removed in a future version.  Convert to a numpy array before indexing instead.\n",
      "  y = y[:, np.newaxis]\n"
     ]
    },
    {
     "data": {
      "image/png": "[encoded data removed]",
      "text/plain": [
       "<Figure size 1152x720 with 3 Axes>"
      ]
     },
     "metadata": {
      "needs_background": "light"
     },
     "output_type": "display_data"
    }
   ],
   "source": [
    "fig, axes = plt.subplots(3, 1, sharex=True, figsize=(16,10))\n",
    "\n",
    "fig.suptitle(f'{model1_name} vs {model2_name} | Dataset: {dataset_name} | n_samples: {n_samples}')\n",
    "\n",
    "axes[0].plot(df.index, df['kmeans_silhouette'], label='KMeans')\n",
    "axes[0].plot(df.index, df['streamkmeans_silhouette'], label='StreamKMeans')\n",
    "# axes[0].plot(df.index, df['single_mae'], label='single')\n",
    "axes[0].set_ylabel('Silhouette')\n",
    "axes[0].grid(linestyle=':')\n",
    "axes[0].legend()\n",
    "# plt.ylim(0, 1)\n",
    "\n",
    "axes[1].plot(df.index, df['kmeans_time'], label='KMeans')\n",
    "axes[1].plot(df.index, df['streamkmeans_time'], label='StreamKMeans')\n",
    "# axes[1].plot(df.index, df['single_time'], label='single')\n",
    "axes[1].set_ylabel('Time (s)')\n",
    "axes[1].grid(linestyle=':')\n",
    "axes[1].legend()\n",
    "\n",
    "# plt.ylim(0, 1)\n",
    "axes[2].plot(df.index, df['kmeans_memory'], label='KMeans')\n",
    "axes[2].plot(df.index, df['streamkmeans_memory'], label='STREAMKMeans')\n",
    "# axes[2].plot(df.index, df['single_memory'], label='single')\n",
    "axes[2].set_ylabel('Memory (bytes)')\n",
    "axes[2].grid(linestyle=':')\n",
    "axes[2].legend()\n",
    "# plt.ylim(0, 1)\n",
    "\n",
    "fig.tight_layout()\n",
    "if save:\n",
    "    plt.savefig(f'{model1} vs {model2} | Dataset: {dataset_name} | n_samples: {n_samples}.png')"
   ]
  },
  {
   "cell_type": "code",
   "execution_count": 11,
   "metadata": {},
   "outputs": [
    {
     "data": {
      "text/plain": [
       "(1.0374867699999388, 2.6485974379999435)"
      ]
     },
     "execution_count": 11,
     "metadata": {},
     "output_type": "execute_result"
    }
   ],
   "source": [
    "time_kmeans, time_streamkmeans"
   ]
  },
  {
   "cell_type": "code",
   "execution_count": 12,
   "metadata": {},
   "outputs": [
    {
     "data": {
      "text/plain": [
       "(Silhouette: 0.212184, Silhouette: 0.286221)"
      ]
     },
     "execution_count": 12,
     "metadata": {},
     "output_type": "execute_result"
    }
   ],
   "source": [
    "metric_kmeans, metric_streamkmeans"
   ]
  },
  {
   "cell_type": "code",
   "execution_count": 13,
   "metadata": {},
   "outputs": [
    {
     "data": {
      "text/plain": [
       "(6103, 7924)"
      ]
     },
     "execution_count": 13,
     "metadata": {},
     "output_type": "execute_result"
    }
   ],
   "source": [
    "kmeans._raw_memory_usage, streamkmeans._raw_memory_usage"
   ]
  },
  {
   "cell_type": "code",
   "execution_count": 14,
   "metadata": {},
   "outputs": [
    {
     "data": {
      "text/plain": [
       "{'n_clusters': 3, 'halflife': 0.4, 'mu': 0, 'sigma': 3, 'p': 2, 'seed': 0}"
      ]
     },
     "execution_count": 14,
     "metadata": {},
     "output_type": "execute_result"
    }
   ],
   "source": [
    "kmeans._get_params()"
   ]
  },
  {
   "cell_type": "code",
   "execution_count": 15,
   "metadata": {},
   "outputs": [
    {
     "data": {
      "text/plain": [
       "{'chunk_size': 3, 'n_clusters': 5, 'halflife': 0.5, 'sigma': 1.5, 'seed': 0}"
      ]
     },
     "execution_count": 15,
     "metadata": {},
     "output_type": "execute_result"
    }
   ],
   "source": [
    "streamkmeans._get_params()"
   ]
  }
 ],
 "metadata": {
  "kernelspec": {
   "display_name": "Python 3",
   "language": "python",
   "name": "python3"
  },
  "language_info": {
   "codemirror_mode": {
    "name": "ipython",
    "version": 3
   },
   "file_extension": ".py",
   "mimetype": "text/x-python",
   "name": "python",
   "nbconvert_exporter": "python",
   "pygments_lexer": "ipython3",
   "version": "3.7.3"
  }
 },
 "nbformat": 4,
 "nbformat_minor": 2
}
