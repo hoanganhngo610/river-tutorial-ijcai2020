{
 "cells": [
  {
   "cell_type": "markdown",
   "metadata": {},
   "source": [
    "# Benchmarking for Clustering Algorithms"
   ]
  },
  {
   "cell_type": "code",
   "execution_count": 1,
   "metadata": {},
   "outputs": [
    {
     "name": "stderr",
     "output_type": "stream",
     "text": [
      "/Applications/anaconda3/lib/python3.7/site-packages/pandas/compat/_optional.py:138: UserWarning: Pandas requires version '2.7.0' or newer of 'numexpr' (version '2.6.9' currently installed).\n",
      "  warnings.warn(msg, UserWarning)\n"
     ]
    }
   ],
   "source": [
    "from river.cluster import KMeans, STREAMKMeans\n",
    "from river.stream import iter_pandas\n",
    "\n",
    "from river import metrics"
   ]
  },
  {
   "cell_type": "code",
   "execution_count": 2,
   "metadata": {},
   "outputs": [],
   "source": [
    "import numpy as np\n",
    "import pandas as pd\n",
    "from collections import deque\n",
    "import matplotlib.pyplot as plt\n",
    "import warnings\n",
    "import time\n",
    "import copy"
   ]
  },
  {
   "cell_type": "code",
   "execution_count": 3,
   "metadata": {},
   "outputs": [
    {
     "name": "stderr",
     "output_type": "stream",
     "text": [
      "/Applications/anaconda3/lib/python3.7/site-packages/dask/config.py:168: YAMLLoadWarning: calling yaml.load() without Loader=... is deprecated, as the default Loader is unsafe. Please read https://msg.pyyaml.org/load for full details.\n",
      "  data = yaml.load(f.read()) or {}\n",
      "/Applications/anaconda3/lib/python3.7/site-packages/distributed/config.py:20: YAMLLoadWarning: calling yaml.load() without Loader=... is deprecated, as the default Loader is unsafe. Please read https://msg.pyyaml.org/load for full details.\n",
      "  defaults = yaml.load(f)\n"
     ]
    }
   ],
   "source": [
    "import streamz\n",
    "import streamz.dataframe"
   ]
  },
  {
   "cell_type": "code",
   "execution_count": 4,
   "metadata": {},
   "outputs": [],
   "source": [
    "#model name\n",
    "model1_name = 'kmeans'\n",
    "model2_name = 'streamkmeans'\n",
    "\n",
    "#dataset_name\n",
    "dataset_name = 'arg_a_20k'\n",
    "\n",
    "#load data\n",
    "data = pd.read_csv(\"agr_a_20k.csv\")\n",
    "features = data.columns[:-2]\n",
    "stream = iter_pandas(X=data[features], y=data['class'])\n",
    "\n",
    "n_samples = 20_000\n",
    "save = False"
   ]
  },
  {
   "cell_type": "code",
   "execution_count": 5,
   "metadata": {},
   "outputs": [
    {
     "data": {
      "text/html": [
       "<div>\n",
       "<style scoped>\n",
       "    .dataframe tbody tr th:only-of-type {\n",
       "        vertical-align: middle;\n",
       "    }\n",
       "\n",
       "    .dataframe tbody tr th {\n",
       "        vertical-align: top;\n",
       "    }\n",
       "\n",
       "    .dataframe thead th {\n",
       "        text-align: right;\n",
       "    }\n",
       "</style>\n",
       "<table border=\"1\" class=\"dataframe\">\n",
       "  <thead>\n",
       "    <tr style=\"text-align: right;\">\n",
       "      <th></th>\n",
       "      <th>salary</th>\n",
       "      <th>commission</th>\n",
       "      <th>age</th>\n",
       "      <th>elevel</th>\n",
       "      <th>car</th>\n",
       "      <th>zipcode</th>\n",
       "      <th>hvalue</th>\n",
       "      <th>hyears</th>\n",
       "      <th>loan</th>\n",
       "      <th>class</th>\n",
       "    </tr>\n",
       "  </thead>\n",
       "  <tbody>\n",
       "    <tr>\n",
       "      <th>0</th>\n",
       "      <td>110499.735409</td>\n",
       "      <td>0.000000</td>\n",
       "      <td>54</td>\n",
       "      <td>3</td>\n",
       "      <td>6</td>\n",
       "      <td>4</td>\n",
       "      <td>135000.0</td>\n",
       "      <td>30</td>\n",
       "      <td>354724.182530</td>\n",
       "      <td>1</td>\n",
       "    </tr>\n",
       "    <tr>\n",
       "      <th>1</th>\n",
       "      <td>140893.779095</td>\n",
       "      <td>0.000000</td>\n",
       "      <td>44</td>\n",
       "      <td>4</td>\n",
       "      <td>12</td>\n",
       "      <td>7</td>\n",
       "      <td>135000.0</td>\n",
       "      <td>2</td>\n",
       "      <td>395015.339020</td>\n",
       "      <td>1</td>\n",
       "    </tr>\n",
       "    <tr>\n",
       "      <th>2</th>\n",
       "      <td>119159.651677</td>\n",
       "      <td>0.000000</td>\n",
       "      <td>49</td>\n",
       "      <td>2</td>\n",
       "      <td>0</td>\n",
       "      <td>3</td>\n",
       "      <td>135000.0</td>\n",
       "      <td>22</td>\n",
       "      <td>122025.085242</td>\n",
       "      <td>1</td>\n",
       "    </tr>\n",
       "    <tr>\n",
       "      <th>3</th>\n",
       "      <td>20000.000000</td>\n",
       "      <td>52593.636537</td>\n",
       "      <td>56</td>\n",
       "      <td>0</td>\n",
       "      <td>19</td>\n",
       "      <td>1</td>\n",
       "      <td>135000.0</td>\n",
       "      <td>30</td>\n",
       "      <td>99629.621457</td>\n",
       "      <td>1</td>\n",
       "    </tr>\n",
       "    <tr>\n",
       "      <th>4</th>\n",
       "      <td>93956.320488</td>\n",
       "      <td>0.000000</td>\n",
       "      <td>59</td>\n",
       "      <td>1</td>\n",
       "      <td>6</td>\n",
       "      <td>1</td>\n",
       "      <td>135000.0</td>\n",
       "      <td>1</td>\n",
       "      <td>458679.826238</td>\n",
       "      <td>0</td>\n",
       "    </tr>\n",
       "  </tbody>\n",
       "</table>\n",
       "</div>"
      ],
      "text/plain": [
       "          salary    commission  age  elevel  car  zipcode    hvalue  hyears  \\\n",
       "0  110499.735409      0.000000   54       3    6        4  135000.0      30   \n",
       "1  140893.779095      0.000000   44       4   12        7  135000.0       2   \n",
       "2  119159.651677      0.000000   49       2    0        3  135000.0      22   \n",
       "3   20000.000000  52593.636537   56       0   19        1  135000.0      30   \n",
       "4   93956.320488      0.000000   59       1    6        1  135000.0       1   \n",
       "\n",
       "            loan  class  \n",
       "0  354724.182530      1  \n",
       "1  395015.339020      1  \n",
       "2  122025.085242      1  \n",
       "3   99629.621457      1  \n",
       "4  458679.826238      0  "
      ]
     },
     "execution_count": 5,
     "metadata": {},
     "output_type": "execute_result"
    }
   ],
   "source": [
    "data.head()"
   ]
  },
  {
   "cell_type": "code",
   "execution_count": 6,
   "metadata": {},
   "outputs": [],
   "source": [
    "kmeans = KMeans(n_clusters=3, halflife=0.4, sigma=3, seed=0)\n",
    "streamkmeans = STREAMKMeans(chunk_size=3, n_clusters=5, halflife=0.5, sigma=1.5, seed=0)"
   ]
  },
  {
   "cell_type": "code",
   "execution_count": 7,
   "metadata": {},
   "outputs": [],
   "source": [
    "#metric - Silhouette\n",
    "metric_kmeans = metrics.cluster.Silhouette()\n",
    "metric_streamkmeans = metrics.cluster.Silhouette()\n",
    "\n",
    "#time\n",
    "time_kmeans = 0\n",
    "time_streamkmeans = 0\n",
    "\n",
    "#score - tuple of (metric, memory usage, time)\n",
    "score_kmeans = deque()\n",
    "score_streamkmeans = deque()"
   ]
  },
  {
   "cell_type": "code",
   "execution_count": 8,
   "metadata": {},
   "outputs": [
    {
     "name": "stdout",
     "output_type": "stream",
     "text": [
      "0 - [KMeans] Silhouette: 0.599992 | [STREAMKMeans] Silhouette: 1.\n",
      "199 - [KMeans] Silhouette: 0.185705 | [STREAMKMeans] Silhouette: 0.304312\n",
      "399 - [KMeans] Silhouette: 0.186003 | [STREAMKMeans] Silhouette: 0.296121\n",
      "599 - [KMeans] Silhouette: 0.187431 | [STREAMKMeans] Silhouette: 0.293774\n",
      "799 - [KMeans] Silhouette: 0.186458 | [STREAMKMeans] Silhouette: 0.290564\n",
      "999 - [KMeans] Silhouette: 0.186953 | [STREAMKMeans] Silhouette: 0.289135\n",
      "1199 - [KMeans] Silhouette: 0.188107 | [STREAMKMeans] Silhouette: 0.2879\n",
      "1399 - [KMeans] Silhouette: 0.189094 | [STREAMKMeans] Silhouette: 0.287487\n",
      "1599 - [KMeans] Silhouette: 0.188701 | [STREAMKMeans] Silhouette: 0.288885\n",
      "1799 - [KMeans] Silhouette: 0.188908 | [STREAMKMeans] Silhouette: 0.289458\n",
      "1999 - [KMeans] Silhouette: 0.190225 | [STREAMKMeans] Silhouette: 0.287943\n",
      "2199 - [KMeans] Silhouette: 0.193168 | [STREAMKMeans] Silhouette: 0.288502\n",
      "2399 - [KMeans] Silhouette: 0.19446 | [STREAMKMeans] Silhouette: 0.287783\n",
      "2599 - [KMeans] Silhouette: 0.196377 | [STREAMKMeans] Silhouette: 0.287906\n",
      "2799 - [KMeans] Silhouette: 0.197642 | [STREAMKMeans] Silhouette: 0.286937\n",
      "2999 - [KMeans] Silhouette: 0.198894 | [STREAMKMeans] Silhouette: 0.286281\n",
      "3199 - [KMeans] Silhouette: 0.200687 | [STREAMKMeans] Silhouette: 0.286231\n",
      "3399 - [KMeans] Silhouette: 0.200853 | [STREAMKMeans] Silhouette: 0.286136\n",
      "3599 - [KMeans] Silhouette: 0.201631 | [STREAMKMeans] Silhouette: 0.285964\n",
      "3799 - [KMeans] Silhouette: 0.202461 | [STREAMKMeans] Silhouette: 0.28538\n",
      "3999 - [KMeans] Silhouette: 0.203884 | [STREAMKMeans] Silhouette: 0.285326\n",
      "4199 - [KMeans] Silhouette: 0.204856 | [STREAMKMeans] Silhouette: 0.28566\n",
      "4399 - [KMeans] Silhouette: 0.205625 | [STREAMKMeans] Silhouette: 0.286584\n",
      "4599 - [KMeans] Silhouette: 0.204626 | [STREAMKMeans] Silhouette: 0.286635\n",
      "4799 - [KMeans] Silhouette: 0.205583 | [STREAMKMeans] Silhouette: 0.285869\n",
      "4999 - [KMeans] Silhouette: 0.206164 | [STREAMKMeans] Silhouette: 0.286349\n",
      "5199 - [KMeans] Silhouette: 0.206465 | [STREAMKMeans] Silhouette: 0.286846\n",
      "5399 - [KMeans] Silhouette: 0.207023 | [STREAMKMeans] Silhouette: 0.286947\n",
      "5599 - [KMeans] Silhouette: 0.207052 | [STREAMKMeans] Silhouette: 0.287197\n",
      "5799 - [KMeans] Silhouette: 0.206233 | [STREAMKMeans] Silhouette: 0.286755\n",
      "5999 - [KMeans] Silhouette: 0.205876 | [STREAMKMeans] Silhouette: 0.286779\n",
      "6199 - [KMeans] Silhouette: 0.206452 | [STREAMKMeans] Silhouette: 0.286476\n",
      "6399 - [KMeans] Silhouette: 0.207491 | [STREAMKMeans] Silhouette: 0.286429\n",
      "6599 - [KMeans] Silhouette: 0.207921 | [STREAMKMeans] Silhouette: 0.286836\n",
      "6799 - [KMeans] Silhouette: 0.208581 | [STREAMKMeans] Silhouette: 0.286923\n",
      "6999 - [KMeans] Silhouette: 0.208759 | [STREAMKMeans] Silhouette: 0.286504\n",
      "7199 - [KMeans] Silhouette: 0.209197 | [STREAMKMeans] Silhouette: 0.286706\n",
      "7399 - [KMeans] Silhouette: 0.209292 | [STREAMKMeans] Silhouette: 0.286649\n",
      "7599 - [KMeans] Silhouette: 0.209859 | [STREAMKMeans] Silhouette: 0.286711\n",
      "7799 - [KMeans] Silhouette: 0.210058 | [STREAMKMeans] Silhouette: 0.286187\n",
      "7999 - [KMeans] Silhouette: 0.21037 | [STREAMKMeans] Silhouette: 0.285994\n",
      "8199 - [KMeans] Silhouette: 0.210932 | [STREAMKMeans] Silhouette: 0.286088\n",
      "8399 - [KMeans] Silhouette: 0.21077 | [STREAMKMeans] Silhouette: 0.286043\n",
      "8599 - [KMeans] Silhouette: 0.210891 | [STREAMKMeans] Silhouette: 0.286086\n",
      "8799 - [KMeans] Silhouette: 0.21118 | [STREAMKMeans] Silhouette: 0.285975\n",
      "8999 - [KMeans] Silhouette: 0.211735 | [STREAMKMeans] Silhouette: 0.285775\n",
      "9199 - [KMeans] Silhouette: 0.21209 | [STREAMKMeans] Silhouette: 0.285942\n",
      "9399 - [KMeans] Silhouette: 0.21232 | [STREAMKMeans] Silhouette: 0.286275\n",
      "9599 - [KMeans] Silhouette: 0.21166 | [STREAMKMeans] Silhouette: 0.286301\n",
      "9799 - [KMeans] Silhouette: 0.212036 | [STREAMKMeans] Silhouette: 0.285967\n",
      "9999 - [KMeans] Silhouette: 0.212184 | [STREAMKMeans] Silhouette: 0.286221\n",
      "10199 - [KMeans] Silhouette: 0.212274 | [STREAMKMeans] Silhouette: 0.286386\n",
      "10399 - [KMeans] Silhouette: 0.212444 | [STREAMKMeans] Silhouette: 0.286398\n",
      "10599 - [KMeans] Silhouette: 0.212361 | [STREAMKMeans] Silhouette: 0.2865\n",
      "10799 - [KMeans] Silhouette: 0.211782 | [STREAMKMeans] Silhouette: 0.286408\n",
      "10999 - [KMeans] Silhouette: 0.211465 | [STREAMKMeans] Silhouette: 0.286528\n",
      "11199 - [KMeans] Silhouette: 0.211749 | [STREAMKMeans] Silhouette: 0.286468\n",
      "11399 - [KMeans] Silhouette: 0.212254 | [STREAMKMeans] Silhouette: 0.286457\n",
      "11599 - [KMeans] Silhouette: 0.212423 | [STREAMKMeans] Silhouette: 0.286687\n",
      "11799 - [KMeans] Silhouette: 0.212768 | [STREAMKMeans] Silhouette: 0.286639\n",
      "11999 - [KMeans] Silhouette: 0.212813 | [STREAMKMeans] Silhouette: 0.286416\n",
      "12199 - [KMeans] Silhouette: 0.213048 | [STREAMKMeans] Silhouette: 0.286479\n",
      "12399 - [KMeans] Silhouette: 0.213056 | [STREAMKMeans] Silhouette: 0.285306\n",
      "12599 - [KMeans] Silhouette: 0.213347 | [STREAMKMeans] Silhouette: 0.284223\n",
      "12799 - [KMeans] Silhouette: 0.213426 | [STREAMKMeans] Silhouette: 0.283073\n",
      "12999 - [KMeans] Silhouette: 0.213581 | [STREAMKMeans] Silhouette: 0.28206\n",
      "13199 - [KMeans] Silhouette: 0.213912 | [STREAMKMeans] Silhouette: 0.281019\n",
      "13399 - [KMeans] Silhouette: 0.213781 | [STREAMKMeans] Silhouette: 0.280172\n",
      "13599 - [KMeans] Silhouette: 0.213805 | [STREAMKMeans] Silhouette: 0.279313\n",
      "13799 - [KMeans] Silhouette: 0.21396 | [STREAMKMeans] Silhouette: 0.278368\n",
      "13999 - [KMeans] Silhouette: 0.214274 | [STREAMKMeans] Silhouette: 0.277425\n",
      "14199 - [KMeans] Silhouette: 0.2145 | [STREAMKMeans] Silhouette: 0.276541\n",
      "14399 - [KMeans] Silhouette: 0.214589 | [STREAMKMeans] Silhouette: 0.275886\n",
      "14599 - [KMeans] Silhouette: 0.214132 | [STREAMKMeans] Silhouette: 0.274935\n",
      "14799 - [KMeans] Silhouette: 0.214358 | [STREAMKMeans] Silhouette: 0.274108\n",
      "14999 - [KMeans] Silhouette: 0.214435 | [STREAMKMeans] Silhouette: 0.273407\n",
      "15199 - [KMeans] Silhouette: 0.214446 | [STREAMKMeans] Silhouette: 0.272666\n",
      "15399 - [KMeans] Silhouette: 0.214541 | [STREAMKMeans] Silhouette: 0.272033\n",
      "15599 - [KMeans] Silhouette: 0.214452 | [STREAMKMeans] Silhouette: 0.271386\n",
      "15799 - [KMeans] Silhouette: 0.214045 | [STREAMKMeans] Silhouette: 0.270686\n",
      "15999 - [KMeans] Silhouette: 0.213785 | [STREAMKMeans] Silhouette: 0.270061\n",
      "16199 - [KMeans] Silhouette: 0.213961 | [STREAMKMeans] Silhouette: 0.26938\n",
      "16399 - [KMeans] Silhouette: 0.214299 | [STREAMKMeans] Silhouette: 0.268767\n",
      "16599 - [KMeans] Silhouette: 0.214383 | [STREAMKMeans] Silhouette: 0.268254\n",
      "16799 - [KMeans] Silhouette: 0.214606 | [STREAMKMeans] Silhouette: 0.26771\n",
      "16999 - [KMeans] Silhouette: 0.214623 | [STREAMKMeans] Silhouette: 0.266951\n",
      "17199 - [KMeans] Silhouette: 0.214779 | [STREAMKMeans] Silhouette: 0.266442\n",
      "17399 - [KMeans] Silhouette: 0.214776 | [STREAMKMeans] Silhouette: 0.265752\n",
      "17599 - [KMeans] Silhouette: 0.214972 | [STREAMKMeans] Silhouette: 0.265229\n",
      "17799 - [KMeans] Silhouette: 0.214986 | [STREAMKMeans] Silhouette: 0.264543\n",
      "17999 - [KMeans] Silhouette: 0.215096 | [STREAMKMeans] Silhouette: 0.263889\n",
      "18199 - [KMeans] Silhouette: 0.215352 | [STREAMKMeans] Silhouette: 0.263373\n",
      "18399 - [KMeans] Silhouette: 0.215207 | [STREAMKMeans] Silhouette: 0.262935\n",
      "18599 - [KMeans] Silhouette: 0.215238 | [STREAMKMeans] Silhouette: 0.262604\n",
      "18799 - [KMeans] Silhouette: 0.215322 | [STREAMKMeans] Silhouette: 0.262\n",
      "18999 - [KMeans] Silhouette: 0.215548 | [STREAMKMeans] Silhouette: 0.261477\n",
      "19199 - [KMeans] Silhouette: 0.215709 | [STREAMKMeans] Silhouette: 0.26102\n",
      "19399 - [KMeans] Silhouette: 0.215749 | [STREAMKMeans] Silhouette: 0.260675\n",
      "19599 - [KMeans] Silhouette: 0.215399 | [STREAMKMeans] Silhouette: 0.26025\n",
      "19799 - [KMeans] Silhouette: 0.215533 | [STREAMKMeans] Silhouette: 0.259752\n",
      "19999 - [KMeans] Silhouette: 0.215668 | [STREAMKMeans] Silhouette: 0.259263\n"
     ]
    }
   ],
   "source": [
    "for i, (x, _) in enumerate(stream):\n",
    "    # KMeans\n",
    "    start = time.perf_counter()\n",
    "    kmeans.learn_one(x)\n",
    "    y_pred_kmeans = kmeans.predict_one(x)\n",
    "    time_kmeans += (time.perf_counter() - start)\n",
    "    metric_kmeans.update(x = x, y_pred = y_pred_kmeans, centers = kmeans.centers)\n",
    "    \n",
    "    # STREAMKMeans\n",
    "    start = time.perf_counter()\n",
    "    streamkmeans.learn_one(x)\n",
    "    y_pred_streamkmeans = streamkmeans.predict_one(x)\n",
    "    time_streamkmeans += (time.perf_counter() - start)\n",
    "    metric_streamkmeans.update(x = x, y_pred = y_pred_streamkmeans, centers = streamkmeans.centers)\n",
    "\n",
    "    \n",
    "    if i == 0 or (i + 1) % int(.01*n_samples) == 0:\n",
    "        print(f'{i} - [KMeans] {metric_kmeans} | [STREAMKMeans] {metric_streamkmeans}')\n",
    "        score_kmeans.append((metric_kmeans.get(), kmeans._raw_memory_usage, time_kmeans))\n",
    "        score_streamkmeans.append((metric_streamkmeans.get(), streamkmeans._raw_memory_usage, time_streamkmeans))"
   ]
  },
  {
   "cell_type": "code",
   "execution_count": 9,
   "metadata": {},
   "outputs": [
    {
     "data": {
      "text/html": [
       "<div>\n",
       "<style scoped>\n",
       "    .dataframe tbody tr th:only-of-type {\n",
       "        vertical-align: middle;\n",
       "    }\n",
       "\n",
       "    .dataframe tbody tr th {\n",
       "        vertical-align: top;\n",
       "    }\n",
       "\n",
       "    .dataframe thead th {\n",
       "        text-align: right;\n",
       "    }\n",
       "</style>\n",
       "<table border=\"1\" class=\"dataframe\">\n",
       "  <thead>\n",
       "    <tr style=\"text-align: right;\">\n",
       "      <th></th>\n",
       "      <th>kmeans_silhouette</th>\n",
       "      <th>kmeans_memory</th>\n",
       "      <th>kmeans_time</th>\n",
       "      <th>streamkmeans_silhouette</th>\n",
       "      <th>streamkmeans_memory</th>\n",
       "      <th>streamkmeans_time</th>\n",
       "    </tr>\n",
       "  </thead>\n",
       "  <tbody>\n",
       "    <tr>\n",
       "      <th>0</th>\n",
       "      <td>0.599992</td>\n",
       "      <td>5335</td>\n",
       "      <td>0.000106</td>\n",
       "      <td>1.000000</td>\n",
       "      <td>7128</td>\n",
       "      <td>0.000077</td>\n",
       "    </tr>\n",
       "    <tr>\n",
       "      <th>200</th>\n",
       "      <td>0.185705</td>\n",
       "      <td>5335</td>\n",
       "      <td>0.012554</td>\n",
       "      <td>0.304312</td>\n",
       "      <td>8164</td>\n",
       "      <td>0.030384</td>\n",
       "    </tr>\n",
       "    <tr>\n",
       "      <th>400</th>\n",
       "      <td>0.186003</td>\n",
       "      <td>5719</td>\n",
       "      <td>0.036606</td>\n",
       "      <td>0.296121</td>\n",
       "      <td>7540</td>\n",
       "      <td>0.070431</td>\n",
       "    </tr>\n",
       "    <tr>\n",
       "      <th>600</th>\n",
       "      <td>0.187431</td>\n",
       "      <td>5719</td>\n",
       "      <td>0.055042</td>\n",
       "      <td>0.293774</td>\n",
       "      <td>8788</td>\n",
       "      <td>0.109165</td>\n",
       "    </tr>\n",
       "    <tr>\n",
       "      <th>800</th>\n",
       "      <td>0.186458</td>\n",
       "      <td>5719</td>\n",
       "      <td>0.069061</td>\n",
       "      <td>0.290564</td>\n",
       "      <td>8164</td>\n",
       "      <td>0.143242</td>\n",
       "    </tr>\n",
       "    <tr>\n",
       "      <th>...</th>\n",
       "      <td>...</td>\n",
       "      <td>...</td>\n",
       "      <td>...</td>\n",
       "      <td>...</td>\n",
       "      <td>...</td>\n",
       "      <td>...</td>\n",
       "    </tr>\n",
       "    <tr>\n",
       "      <th>19200</th>\n",
       "      <td>0.215709</td>\n",
       "      <td>6103</td>\n",
       "      <td>1.592639</td>\n",
       "      <td>0.261020</td>\n",
       "      <td>9556</td>\n",
       "      <td>4.298976</td>\n",
       "    </tr>\n",
       "    <tr>\n",
       "      <th>19400</th>\n",
       "      <td>0.215749</td>\n",
       "      <td>6103</td>\n",
       "      <td>1.610713</td>\n",
       "      <td>0.260675</td>\n",
       "      <td>8932</td>\n",
       "      <td>4.347863</td>\n",
       "    </tr>\n",
       "    <tr>\n",
       "      <th>19600</th>\n",
       "      <td>0.215399</td>\n",
       "      <td>6103</td>\n",
       "      <td>1.638329</td>\n",
       "      <td>0.260250</td>\n",
       "      <td>8308</td>\n",
       "      <td>4.423900</td>\n",
       "    </tr>\n",
       "    <tr>\n",
       "      <th>19800</th>\n",
       "      <td>0.215533</td>\n",
       "      <td>6103</td>\n",
       "      <td>1.660527</td>\n",
       "      <td>0.259752</td>\n",
       "      <td>9556</td>\n",
       "      <td>4.568789</td>\n",
       "    </tr>\n",
       "    <tr>\n",
       "      <th>20000</th>\n",
       "      <td>0.215668</td>\n",
       "      <td>6103</td>\n",
       "      <td>1.673706</td>\n",
       "      <td>0.259263</td>\n",
       "      <td>8932</td>\n",
       "      <td>4.605635</td>\n",
       "    </tr>\n",
       "  </tbody>\n",
       "</table>\n",
       "<p>101 rows × 6 columns</p>\n",
       "</div>"
      ],
      "text/plain": [
       "       kmeans_silhouette  kmeans_memory  kmeans_time  streamkmeans_silhouette  \\\n",
       "0               0.599992           5335     0.000106                 1.000000   \n",
       "200             0.185705           5335     0.012554                 0.304312   \n",
       "400             0.186003           5719     0.036606                 0.296121   \n",
       "600             0.187431           5719     0.055042                 0.293774   \n",
       "800             0.186458           5719     0.069061                 0.290564   \n",
       "...                  ...            ...          ...                      ...   \n",
       "19200           0.215709           6103     1.592639                 0.261020   \n",
       "19400           0.215749           6103     1.610713                 0.260675   \n",
       "19600           0.215399           6103     1.638329                 0.260250   \n",
       "19800           0.215533           6103     1.660527                 0.259752   \n",
       "20000           0.215668           6103     1.673706                 0.259263   \n",
       "\n",
       "       streamkmeans_memory  streamkmeans_time  \n",
       "0                     7128           0.000077  \n",
       "200                   8164           0.030384  \n",
       "400                   7540           0.070431  \n",
       "600                   8788           0.109165  \n",
       "800                   8164           0.143242  \n",
       "...                    ...                ...  \n",
       "19200                 9556           4.298976  \n",
       "19400                 8932           4.347863  \n",
       "19600                 8308           4.423900  \n",
       "19800                 9556           4.568789  \n",
       "20000                 8932           4.605635  \n",
       "\n",
       "[101 rows x 6 columns]"
      ]
     },
     "execution_count": 9,
     "metadata": {},
     "output_type": "execute_result"
    }
   ],
   "source": [
    "df = pd.DataFrame(\n",
    "    data={\n",
    "        'kmeans_silhouette': [t[0] for t in score_kmeans],\n",
    "        'kmeans_memory': [t[1] for t in score_kmeans],\n",
    "        'kmeans_time': [t[2] for t in score_kmeans],\n",
    "        'streamkmeans_silhouette': [t[0] for t in score_streamkmeans],\n",
    "        'streamkmeans_memory': [t[1] for t in score_streamkmeans],\n",
    "        'streamkmeans_time': [t[2] for t in score_streamkmeans],\n",
    "\n",
    "    }\n",
    ")\n",
    "\n",
    "idx = np.arange(0, n_samples + 1, int(0.01 * n_samples))\n",
    "df.set_index(idx, inplace=True)\n",
    "if save:\n",
    "    df.to_csv(f'srp_{base_model}_f-{dataset_name}_{n_samples}.csv')\n",
    "df"
   ]
  },
  {
   "cell_type": "code",
   "execution_count": 10,
   "metadata": {},
   "outputs": [
    {
     "name": "stderr",
     "output_type": "stream",
     "text": [
      "/Applications/anaconda3/lib/python3.7/site-packages/matplotlib/cbook/__init__.py:1377: FutureWarning: Support for multi-dimensional indexing (e.g. `obj[:, None]`) is deprecated and will be removed in a future version.  Convert to a numpy array before indexing instead.\n",
      "  x[:, None]\n",
      "/Applications/anaconda3/lib/python3.7/site-packages/matplotlib/axes/_base.py:237: FutureWarning: Support for multi-dimensional indexing (e.g. `obj[:, None]`) is deprecated and will be removed in a future version.  Convert to a numpy array before indexing instead.\n",
      "  x = x[:, np.newaxis]\n",
      "/Applications/anaconda3/lib/python3.7/site-packages/matplotlib/axes/_base.py:239: FutureWarning: Support for multi-dimensional indexing (e.g. `obj[:, None]`) is deprecated and will be removed in a future version.  Convert to a numpy array before indexing instead.\n",
      "  y = y[:, np.newaxis]\n"
     ]
    },
    {
     "data": {
      "image/png": "[encoded data removed]",
      "text/plain": [
       "<Figure size 1152x720 with 3 Axes>"
      ]
     },
     "metadata": {
      "needs_background": "light"
     },
     "output_type": "display_data"
    }
   ],
   "source": [
    "fig, axes = plt.subplots(3, 1, sharex=True, figsize=(16,10))\n",
    "\n",
    "fig.suptitle(f'{model1_name} vs {model2_name} | Dataset: {dataset_name} | n_samples: {n_samples}')\n",
    "\n",
    "axes[0].plot(df.index, df['kmeans_silhouette'], label='KMeans')\n",
    "axes[0].plot(df.index, df['streamkmeans_silhouette'], label='StreamKMeans')\n",
    "# axes[0].plot(df.index, df['single_mae'], label='single')\n",
    "axes[0].set_ylabel('Silhouette')\n",
    "axes[0].grid(linestyle=':')\n",
    "axes[0].legend()\n",
    "# plt.ylim(0, 1)\n",
    "\n",
    "axes[1].plot(df.index, df['kmeans_time'], label='KMeans')\n",
    "axes[1].plot(df.index, df['streamkmeans_time'], label='StreamKMeans')\n",
    "# axes[1].plot(df.index, df['single_time'], label='single')\n",
    "axes[1].set_ylabel('Time (s)')\n",
    "axes[1].grid(linestyle=':')\n",
    "axes[1].legend()\n",
    "\n",
    "# plt.ylim(0, 1)\n",
    "axes[2].plot(df.index, df['kmeans_memory'], label='KMeans')\n",
    "axes[2].plot(df.index, df['streamkmeans_memory'], label='STREAMKMeans')\n",
    "# axes[2].plot(df.index, df['single_memory'], label='single')\n",
    "axes[2].set_ylabel('Memory (bytes)')\n",
    "axes[2].grid(linestyle=':')\n",
    "axes[2].legend()\n",
    "# plt.ylim(0, 1)\n",
    "\n",
    "fig.tight_layout()\n",
    "if save:\n",
    "    plt.savefig(f'{model1} vs {model2} | Dataset: {dataset_name} | n_samples: {n_samples}.png')"
   ]
  },
  {
   "cell_type": "code",
   "execution_count": 11,
   "metadata": {},
   "outputs": [
    {
     "data": {
      "text/plain": [
       "(1.6737064890000974, 4.605635380999938)"
      ]
     },
     "execution_count": 11,
     "metadata": {},
     "output_type": "execute_result"
    }
   ],
   "source": [
    "time_kmeans, time_streamkmeans"
   ]
  },
  {
   "cell_type": "code",
   "execution_count": 12,
   "metadata": {},
   "outputs": [
    {
     "data": {
      "text/plain": [
       "(Silhouette: 0.215668, Silhouette: 0.259263)"
      ]
     },
     "execution_count": 12,
     "metadata": {},
     "output_type": "execute_result"
    }
   ],
   "source": [
    "metric_kmeans, metric_streamkmeans"
   ]
  },
  {
   "cell_type": "code",
   "execution_count": 13,
   "metadata": {},
   "outputs": [
    {
     "data": {
      "text/plain": [
       "(6103, 8932)"
      ]
     },
     "execution_count": 13,
     "metadata": {},
     "output_type": "execute_result"
    }
   ],
   "source": [
    "kmeans._raw_memory_usage, streamkmeans._raw_memory_usage"
   ]
  },
  {
   "cell_type": "code",
   "execution_count": 14,
   "metadata": {},
   "outputs": [
    {
     "data": {
      "text/plain": [
       "{'n_clusters': 3, 'halflife': 0.4, 'mu': 0, 'sigma': 3, 'p': 2, 'seed': 0}"
      ]
     },
     "execution_count": 14,
     "metadata": {},
     "output_type": "execute_result"
    }
   ],
   "source": [
    "kmeans._get_params()"
   ]
  },
  {
   "cell_type": "code",
   "execution_count": 15,
   "metadata": {},
   "outputs": [
    {
     "data": {
      "text/plain": [
       "{'chunk_size': 3, 'n_clusters': 5, 'halflife': 0.5, 'sigma': 1.5, 'seed': 0}"
      ]
     },
     "execution_count": 15,
     "metadata": {},
     "output_type": "execute_result"
    }
   ],
   "source": [
    "streamkmeans._get_params()"
   ]
  }
 ],
 "metadata": {
  "kernelspec": {
   "display_name": "Python 3",
   "language": "python",
   "name": "python3"
  },
  "language_info": {
   "codemirror_mode": {
    "name": "ipython",
    "version": 3
   },
   "file_extension": ".py",
   "mimetype": "text/x-python",
   "name": "python",
   "nbconvert_exporter": "python",
   "pygments_lexer": "ipython3",
   "version": "3.7.3"
  }
 },
 "nbformat": 4,
 "nbformat_minor": 2
}
